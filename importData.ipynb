{
 "cells": [
  {
   "cell_type": "code",
   "execution_count": null,
   "metadata": {},
   "outputs": [],
   "source": [
    "import gdown\n",
    "import os\n",
    "\n",
    "# URL do Google Drive da pasta \"projeto\"\n",
    "url_projeto = 'https://drive.google.com/drive/folders/1ETS57OmgGQjHYfUTivremVgCehzZ_Owh?usp=sharing'\n",
    "\n",
    "# Diretório de destino para salvar a pasta \"projeto\"\n",
    "diretorio_destino = '/Users/NatashaBrandao/Documents/Projetos Python/AnaliseDeDados---CineFlix/projeto'\n",
    "\n",
    "# Criar o diretório de destino se ele não existir\n",
    "os.makedirs(diretorio_destino, exist_ok=True)\n",
    "\n",
    "# Baixar a pasta \"projeto\" diretamente\n",
    "gdown.download(url_projeto, diretorio_destino, quiet=False)\n",
    "\n",
    "print(\"Download da pasta 'projeto' concluído com sucesso.\")\n"
   ]
  },
  {
   "cell_type": "code",
   "execution_count": 1,
   "metadata": {},
   "outputs": [
    {
     "name": "stderr",
     "output_type": "stream",
     "text": [
      "Downloading...\n",
      "From: https://drive.google.com/uc?id=1H3WC-L8XHM3XPUNDNrRiE5MXdUnC3UdJ&export=download\n",
      "To: /Users/NatashaBrandao/Documents/Projetos Python/AnaliseDeDados---CineFlix/Projeto de Análise de Dados SQL.sql\n",
      "100%|██████████| 2.09k/2.09k [00:00<00:00, 5.28MB/s]"
     ]
    },
    {
     "name": "stdout",
     "output_type": "stream",
     "text": [
      "Download do arquivo SQL concluído com sucesso.\n"
     ]
    },
    {
     "name": "stderr",
     "output_type": "stream",
     "text": [
      "\n"
     ]
    }
   ],
   "source": [
    "import gdown\n",
    "\n",
    "# URL do Google Drive do arquivo SQL\n",
    "url_sql = 'https://drive.google.com/uc?id=1H3WC-L8XHM3XPUNDNrRiE5MXdUnC3UdJ&export=download'\n",
    "\n",
    "# Diretório de destino para salvar o arquivo SQL\n",
    "diretorio_destino_sql = '/Users/NatashaBrandao/Documents/Projetos Python/AnaliseDeDados---CineFlix'\n",
    "\n",
    "# Nome do arquivo SQL\n",
    "nome_arquivo_sql = 'Projeto de Análise de Dados SQL.sql'\n",
    "\n",
    "# Baixar o arquivo SQL diretamente\n",
    "gdown.download(url_sql, f'{diretorio_destino_sql}/{nome_arquivo_sql}', quiet=False)\n",
    "\n",
    "print(\"Download do arquivo SQL concluído com sucesso.\")\n"
   ]
  },
  {
   "cell_type": "code",
   "execution_count": 4,
   "metadata": {},
   "outputs": [
    {
     "name": "stdout",
     "output_type": "stream",
     "text": [
      "Conexão ao MySQL bem-sucedida.\n",
      "Script /Users/NatashaBrandao/Documents/Projetos Python/AnaliseDeDados---CineFlix/projeto/hashtagmovie_atores.sql executado com sucesso.\n",
      "Script /Users/NatashaBrandao/Documents/Projetos Python/AnaliseDeDados---CineFlix/projeto/hashtagmovie_clientes.sql executado com sucesso.\n",
      "Script /Users/NatashaBrandao/Documents/Projetos Python/AnaliseDeDados---CineFlix/projeto/hashtagmovie_alugueis.sql executado com sucesso.\n",
      "Script /Users/NatashaBrandao/Documents/Projetos Python/AnaliseDeDados---CineFlix/projeto/hashtagmovie_filmes.sql executado com sucesso.\n",
      "Script /Users/NatashaBrandao/Documents/Projetos Python/AnaliseDeDados---CineFlix/projeto/hashtagmovie_atuacoes.sql executado com sucesso.\n",
      "Conexão ao MySQL fechada.\n"
     ]
    }
   ],
   "source": [
    "import os\n",
    "import mysql.connector\n",
    "\n",
    "# Configurações do banco de dados\n",
    "db_config = {\n",
    "    'host': 'localhost',\n",
    "    'user': 'root',\n",
    "    'password': 'natasha57',\n",
    "    'database': 'hashtagmovie'\n",
    "}\n",
    "\n",
    "# Função para executar um script SQL a partir de um arquivo\n",
    "def executar_script_sql(arquivo_sql, conexao):\n",
    "    try:\n",
    "        with open(arquivo_sql, 'r') as script:\n",
    "            cursor = conexao.cursor()\n",
    "            sql_statements = script.read().split(';')\n",
    "            for sql_statement in sql_statements:\n",
    "                if sql_statement.strip():\n",
    "                    cursor.execute(sql_statement)\n",
    "            conexao.commit()\n",
    "            print(f'Script {arquivo_sql} executado com sucesso.')\n",
    "    except Exception as e:\n",
    "        print(f'Erro ao executar o script {arquivo_sql}: {e}')\n",
    "\n",
    "# Conectar ao MySQL\n",
    "try:\n",
    "    conexao = mysql.connector.connect(\n",
    "        host=db_config['host'],\n",
    "        user=db_config['user'],\n",
    "        password=db_config['password'],\n",
    "        database=db_config['database']\n",
    "    )\n",
    "    print('Conexão ao MySQL bem-sucedida.')\n",
    "\n",
    "    # Diretório onde os arquivos SQL estão localizados\n",
    "    diretorio_projeto = '/Users/NatashaBrandao/Documents/Projetos Python/AnaliseDeDados---CineFlix/projeto'\n",
    "\n",
    "    # Lista de arquivos SQL na pasta \"projeto\"\n",
    "    arquivos_sql = [arquivo for arquivo in os.listdir(diretorio_projeto) if arquivo.endswith('.sql')]\n",
    "\n",
    "    # Executar cada script SQL\n",
    "    for nome_arquivo in arquivos_sql:\n",
    "        caminho_arquivo = os.path.join(diretorio_projeto, nome_arquivo)\n",
    "        executar_script_sql(caminho_arquivo, conexao)\n",
    "\n",
    "except mysql.connector.Error as e:\n",
    "    print(f'Erro ao conectar ao MySQL: {e}')\n",
    "\n",
    "finally:\n",
    "    if 'conexao' in locals() and conexao.is_connected():\n",
    "        conexao.close()\n",
    "        print('Conexão ao MySQL fechada.')"
   ]
  }
 ],
 "metadata": {
  "kernelspec": {
   "display_name": "Python 3",
   "language": "python",
   "name": "python3"
  },
  "language_info": {
   "codemirror_mode": {
    "name": "ipython",
    "version": 3
   },
   "file_extension": ".py",
   "mimetype": "text/x-python",
   "name": "python",
   "nbconvert_exporter": "python",
   "pygments_lexer": "ipython3",
   "version": "3.12.0"
  }
 },
 "nbformat": 4,
 "nbformat_minor": 2
}
