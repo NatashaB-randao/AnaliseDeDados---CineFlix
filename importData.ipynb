{
 "cells": [
  {
   "cell_type": "code",
   "execution_count": null,
   "metadata": {},
   "outputs": [],
   "source": [
    "import os\n",
    "import requests\n",
    "\n",
    "# Diretório de destino para salvar os arquivos\n",
    "diretorio_destino = \"/Users/NatashaBrandao/Documents/Projetos Python/AnaliseDeDados---CineFlix\"\n",
    "\n",
    "# Links dos arquivos no Google Drive\n",
    "links_arquivos = {\n",
    "    'hashtagmovie_alugueis.sql': '1ifyVFJh35JdT8qRIjSydqzPdXTfHjlxv',\n",
    "    'hashtagmovie_atores.sql': '1ifyVFJh35JdT8qRIjSydqzPdXTfHjlxv',\n",
    "    'hashtagmovies_atuacoes.sql': '1ifyVFJh35JdT8qRIjSydqzPdXTfHjlxv',\n",
    "    'hashtagmovies_clientes.sql': '1ifyVFJh35JdT8qRIjSydqzPdXTfHjlxv',\n",
    "    'hashtagmovies_filmes.sql': '1ifyVFJh35JdT8qRIjSydqzPdXTfHjlxv'\n",
    "}\n",
    "\n",
    "# Baixar e salvar os arquivos\n",
    "for nome_arquivo, id_arquivo in links_arquivos.items():\n",
    "    try:\n",
    "        print(f\"Baixando o arquivo: {nome_arquivo}\")\n",
    "        url = f\"https://drive.google.com/uc?id={id_arquivo}\"\n",
    "        response = requests.get(url)\n",
    "        with open(f\"{diretorio_destino}/{nome_arquivo}\", \"wb\") as arquivo:\n",
    "            arquivo.write(response.content)\n",
    "        print(f\"Arquivo {nome_arquivo} baixado e salvo com sucesso em {diretorio_destino}\")\n",
    "    except Exception as e:\n",
    "        print(f\"Erro ao baixar o arquivo {nome_arquivo}: {e}\")\n"
   ]
  },
  {
   "cell_type": "code",
   "execution_count": 20,
   "metadata": {},
   "outputs": [
    {
     "name": "stdout",
     "output_type": "stream",
     "text": [
      "Conexão ao MySQL bem-sucedida.\n",
      "Script /Users/NatashaBrandao/Documents/Projetos Python/AnaliseDeDados---CineFlix/hashtagmovie_alugueis.sql executado com sucesso.\n",
      "Script /Users/NatashaBrandao/Documents/Projetos Python/AnaliseDeDados---CineFlix/hashtagmovie_atores.sql executado com sucesso.\n",
      "Script /Users/NatashaBrandao/Documents/Projetos Python/AnaliseDeDados---CineFlix/hashtagmovies_atuacoes.sql executado com sucesso.\n",
      "Script /Users/NatashaBrandao/Documents/Projetos Python/AnaliseDeDados---CineFlix/hashtagmovies_clientes.sql executado com sucesso.\n",
      "Script /Users/NatashaBrandao/Documents/Projetos Python/AnaliseDeDados---CineFlix/hashtagmovies_filmes.sql executado com sucesso.\n",
      "Conexão ao MySQL fechada.\n"
     ]
    }
   ],
   "source": [
    "import mysql.connector\n",
    "\n",
    "# Configurações do banco de dados\n",
    "db_config = {\n",
    "    'host': 'localhost',\n",
    "    'user': 'root',\n",
    "    'password': 'natasha57',\n",
    "    'database': 'hashtagmovie'\n",
    "}\n",
    "\n",
    "# Função para executar um script SQL a partir de um arquivo\n",
    "def executar_script_sql(arquivo_sql, conexao):\n",
    "    try:\n",
    "        with open(arquivo_sql, 'r') as script:\n",
    "            cursor = conexao.cursor()\n",
    "            for resultado in cursor.execute(script.read(), multi=True):\n",
    "                if resultado.with_rows:\n",
    "                    resultado.fetchall()\n",
    "            conexao.commit()\n",
    "            print(f'Script {arquivo_sql} executado com sucesso.')\n",
    "    except Exception as e:\n",
    "        print(f'Erro ao executar o script {arquivo_sql}: {e}')\n",
    "\n",
    "# Conectar ao MySQL\n",
    "try:\n",
    "    conexao = mysql.connector.connect(\n",
    "        host=db_config['host'],\n",
    "        user=db_config['user'],\n",
    "        password=db_config['password'],\n",
    "        database=db_config['database']\n",
    "    )\n",
    "    print('Conexão ao MySQL bem-sucedida.')\n",
    "\n",
    "    # Lista de arquivos SQL e seus caminhos\n",
    "    arquivos_sql = {\n",
    "        'hashtagmovie_alugueis.sql': '/Users/NatashaBrandao/Documents/Projetos Python/AnaliseDeDados---CineFlix/hashtagmovie_alugueis.sql',\n",
    "        'hashtagmovie_atores.sql': '/Users/NatashaBrandao/Documents/Projetos Python/AnaliseDeDados---CineFlix/hashtagmovie_atores.sql',\n",
    "        'hashtagmovies_atuacoes.sql': '/Users/NatashaBrandao/Documents/Projetos Python/AnaliseDeDados---CineFlix/hashtagmovies_atuacoes.sql',\n",
    "        'hashtagmovies_clientes.sql': '/Users/NatashaBrandao/Documents/Projetos Python/AnaliseDeDados---CineFlix/hashtagmovies_clientes.sql',\n",
    "        'hashtagmovies_filmes.sql': '/Users/NatashaBrandao/Documents/Projetos Python/AnaliseDeDados---CineFlix/hashtagmovies_filmes.sql'\n",
    "    }\n",
    "\n",
    "    # Executar cada script SQL\n",
    "    for nome_arquivo, caminho_arquivo in arquivos_sql.items():\n",
    "        executar_script_sql(caminho_arquivo, conexao)\n",
    "\n",
    "except mysql.connector.Error as e:\n",
    "    print(f'Erro ao conectar ao MySQL: {e}')\n",
    "\n",
    "finally:\n",
    "    if 'conexao' in locals() and conexao.is_connected():\n",
    "        conexao.close()\n",
    "        print('Conexão ao MySQL fechada.')\n"
   ]
  }
 ],
 "metadata": {
  "kernelspec": {
   "display_name": "Python 3",
   "language": "python",
   "name": "python3"
  },
  "language_info": {
   "codemirror_mode": {
    "name": "ipython",
    "version": 3
   },
   "file_extension": ".py",
   "mimetype": "text/x-python",
   "name": "python",
   "nbconvert_exporter": "python",
   "pygments_lexer": "ipython3",
   "version": "3.12.0"
  }
 },
 "nbformat": 4,
 "nbformat_minor": 2
}
