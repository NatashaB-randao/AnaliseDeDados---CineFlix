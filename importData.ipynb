{
 "cells": [
  {
   "cell_type": "code",
   "execution_count": 1,
   "metadata": {},
   "outputs": [
    {
     "name": "stdout",
     "output_type": "stream",
     "text": [
      "Baixando o arquivo: hashtagmovie_alugueis.sql\n",
      "Arquivo hashtagmovie_alugueis.sql baixado e salvo com sucesso em /Users/NatashaBrandao/Documents/Projetos Python/AnaliseDeDados---CineFlix\n",
      "Baixando o arquivo: hashtagmovie_atores.sql\n",
      "Arquivo hashtagmovie_atores.sql baixado e salvo com sucesso em /Users/NatashaBrandao/Documents/Projetos Python/AnaliseDeDados---CineFlix\n",
      "Baixando o arquivo: hashtagmovies_atuacoes.sql\n",
      "Arquivo hashtagmovies_atuacoes.sql baixado e salvo com sucesso em /Users/NatashaBrandao/Documents/Projetos Python/AnaliseDeDados---CineFlix\n",
      "Baixando o arquivo: hashtagmovies_clientes.sql\n",
      "Arquivo hashtagmovies_clientes.sql baixado e salvo com sucesso em /Users/NatashaBrandao/Documents/Projetos Python/AnaliseDeDados---CineFlix\n",
      "Baixando o arquivo: hashtagmovies_filmes.sql\n",
      "Arquivo hashtagmovies_filmes.sql baixado e salvo com sucesso em /Users/NatashaBrandao/Documents/Projetos Python/AnaliseDeDados---CineFlix\n"
     ]
    }
   ],
   "source": [
    "import os\n",
    "import requests\n",
    "\n",
    "# Diretório de destino para salvar os arquivos\n",
    "diretorio_destino = \"/Users/NatashaBrandao/Documents/Projetos Python/AnaliseDeDados---CineFlix\"\n",
    "\n",
    "# Links dos arquivos no Google Drive\n",
    "links_arquivos = {\n",
    "    'hashtagmovie_alugueis.sql': '1ifyVFJh35JdT8qRIjSydqzPdXTfHjlxv',\n",
    "    'hashtagmovie_atores.sql': '1ifyVFJh35JdT8qRIjSydqzPdXTfHjlxv',\n",
    "    'hashtagmovies_atuacoes.sql': '1ifyVFJh35JdT8qRIjSydqzPdXTfHjlxv',\n",
    "    'hashtagmovies_clientes.sql': '1ifyVFJh35JdT8qRIjSydqzPdXTfHjlxv',\n",
    "    'hashtagmovies_filmes.sql': '1ifyVFJh35JdT8qRIjSydqzPdXTfHjlxv'\n",
    "}\n",
    "\n",
    "# Baixar e salvar os arquivos\n",
    "for nome_arquivo, id_arquivo in links_arquivos.items():\n",
    "    try:\n",
    "        print(f\"Baixando o arquivo: {nome_arquivo}\")\n",
    "        url = f\"https://drive.google.com/uc?id={id_arquivo}\"\n",
    "        response = requests.get(url)\n",
    "        with open(f\"{diretorio_destino}/{nome_arquivo}\", \"wb\") as arquivo:\n",
    "            arquivo.write(response.content)\n",
    "        print(f\"Arquivo {nome_arquivo} baixado e salvo com sucesso em {diretorio_destino}\")\n",
    "    except Exception as e:\n",
    "        print(f\"Erro ao baixar o arquivo {nome_arquivo}: {e}\")\n"
   ]
  }
 ],
 "metadata": {
  "kernelspec": {
   "display_name": "Python 3",
   "language": "python",
   "name": "python3"
  },
  "language_info": {
   "codemirror_mode": {
    "name": "ipython",
    "version": 3
   },
   "file_extension": ".py",
   "mimetype": "text/x-python",
   "name": "python",
   "nbconvert_exporter": "python",
   "pygments_lexer": "ipython3",
   "version": "3.12.0"
  }
 },
 "nbformat": 4,
 "nbformat_minor": 2
}
